{
 "cells": [
  {
   "cell_type": "code",
   "execution_count": null,
   "metadata": {},
   "outputs": [],
   "source": [
    "\n",
    "from google.colab import drive"
   ]
  },
  {
   "cell_type": "code",
   "execution_count": null,
   "metadata": {},
   "outputs": [],
   "source": [
    "import tensorflow as tf\n",
    "from tensorflow import keras \n",
    "from tensorflow.keras import Sequential\n",
    "from tensorflow.keras.layers import Dense,Conv2D,MaxPool2D,Flatten,BatchNormalization,Dropout\n",
    "import numpy as np\n",
    "import pandas as pd\n",
    "import cv2\n",
    "import os"
   ]
  },
  {
   "cell_type": "code",
   "execution_count": null,
   "metadata": {},
   "outputs": [],
   "source": [
    "\n",
    "drive.mount('/content/drive')#connect drive to colab"
   ]
  },
  {
   "cell_type": "code",
   "execution_count": null,
   "metadata": {},
   "outputs": [],
   "source": [
    "Datadir='/content/drive/MyDrive/Mini_Project_V'\n",
    "category=[\"PNEUMONIA\",\"NORMAL\"]\n",
    "dataset=[]\n",
    "size=150\n",
    "ct=0\n",
    "ct1=0\n",
    "for types in category:\n",
    "    path=os.path.join(Datadir,types)\n",
    "    ex=0\n",
    "    for img in os.listdir(path):\n",
    "        if types=='PNEUMONIA':\n",
    "            ex=1\n",
    "            ct=ct+1;\n",
    "        else :\n",
    "            ct1=ct1+1;\n",
    "            ex=0\n",
    "        try :\n",
    "            img_arr=cv2.imread(os.path.join(path,img),cv2.IMREAD_GRAYSCALE)\n",
    "            new_img=cv2.resize(img_arr ,(size,size),interpolation=cv2.INTER_AREA)\n",
    "            dataset.append([new_img,ex])\n",
    "        except Exception as e:\n",
    "            pass"
   ]
  },
  {
   "cell_type": "code",
   "execution_count": null,
   "metadata": {},
   "outputs": [],
   "source": [
    "import matplotlib.pyplot as plt\n",
    "import matplotlib.image as mpimg\n",
    "plt.imshow(dataset[0][0])"
   ]
  },
  {
   "cell_type": "code",
   "execution_count": null,
   "metadata": {},
   "outputs": [],
   "source": [
    "\n",
    "import random\n",
    "random.shuffle(dataset)\n",
    "X=[]\n",
    "Y=[]\n",
    "for features,label in dataset:\n",
    "  X.append(features)\n",
    "  Y.append(label)\n",
    "\n",
    "X=np.array(X).reshape(-1,size,size,1)\n",
    "\n",
    "\n",
    "X=X/225\n",
    "Y=np.array(Y)"
   ]
  },
  {
   "cell_type": "code",
   "execution_count": null,
   "metadata": {},
   "outputs": [],
   "source": [
    "from sklearn.model_selection import train_test_split \n",
    "X_train,X_test,Y_train,Y_test=train_test_split(X, Y, test_size=0.2, random_state=50)"
   ]
  },
  {
   "cell_type": "code",
   "execution_count": null,
   "metadata": {},
   "outputs": [],
   "source": [
    "\n",
    "model=Sequential()\n",
    "model.add(Flatten(input_shape=(size,size)))\n",
    "model.add(BatchNormalization(axis=1))\n",
    "model.add(Dense(408,activation='relu'))\n",
    "model.add(BatchNormalization(axis=1))\n",
    "model.add(Dense(104,activation='relu'))\n",
    "model.add(BatchNormalization(axis=1))plt.plot(history.history['loss'])\n",
    "plt.plot(history.history['val_loss'])\n",
    "model.add(Dense(32,activation='relu'))\n",
    "model.add(Dense(2,activation='sigmoid'))"
   ]
  },
  {
   "cell_type": "code",
   "execution_count": null,
   "metadata": {},
   "outputs": [],
   "source": [
    "\n",
    "model.compile(loss='sparse_categorical_crossentropy',optimizer='Adam',metrics=['accuracy'])#0.01"
   ]
  },
  {
   "cell_type": "code",
   "execution_count": null,
   "metadata": {},
   "outputs": [],
   "source": [
    "from keras.callbacks import ModelCheckpoint,EarlyStopping,CSVLogger\n",
    "filepath=\"/content/drive/MyDrive/saved_models/CatvsDog-{epoch:02d}-{val_accuracy:.2f}.hdf5\"\n",
    "\n",
    "# save the model with the best validation (development) accuracy till now\n",
    "earlystopping = EarlyStopping(monitor='val_loss',patience=8,verbose=1)\n",
    "\n",
    "\n",
    "callback_list=[earlystopping]"
   ]
  },
  {
   "cell_type": "code",
   "execution_count": null,
   "metadata": {},
   "outputs": [],
   "source": [
    "\n",
    "history=model.fit(X_train,Y_train,epochs=15,validation_split=0.2,callbacks=callback_list)"
   ]
  },
  {
   "cell_type": "code",
   "execution_count": null,
   "metadata": {},
   "outputs": [],
   "source": [
    "y_prob=model.predict(X_test)\n",
    "y_pred=y_prob.argmax(axis=1)"
   ]
  },
  {
   "cell_type": "code",
   "execution_count": null,
   "metadata": {},
   "outputs": [],
   "source": [
    "from sklearn.metrics import accuracy_score\n",
    "accuracy_score(Y_test,y_pred)"
   ]
  },
  {
   "cell_type": "code",
   "execution_count": null,
   "metadata": {},
   "outputs": [],
   "source": [
    "\n",
    "plt.plot(history.history['loss'])\n",
    "plt.plot(history.history['val_loss'])\n"
   ]
  },
  {
   "cell_type": "code",
   "execution_count": null,
   "metadata": {},
   "outputs": [],
   "source": [
    "plt.plot(history.history['accuracy'])\n",
    "plt.plot(history.history['val_accuracy'])"
   ]
  },
  {
   "cell_type": "code",
   "execution_count": null,
   "metadata": {},
   "outputs": [],
   "source": [
    "#saving model\n",
    "model.save_weights(\"/content/drive/MyDrive/Mini_Project_V/TESTANN.hdf5\",overwrite=True)\n",
    "     "
   ]
  },
  {
   "cell_type": "code",
   "execution_count": null,
   "metadata": {},
   "outputs": [],
   "source": [
    "from sklearn.metrics import confusion_matrix \n",
    "import seaborn as sns\n",
    "\n",
    "sns.heatmap(confusion_matrix(Y_test, y_pred), annot=True, cmap='Blues')"
   ]
  },
  {
   "cell_type": "code",
   "execution_count": null,
   "metadata": {},
   "outputs": [],
   "source": [
    "model1=Sequential()\n",
    "\n",
    "model1.add(Conv2D(16,(3,3),activation='relu',input_shape=(size,size,1)))\n",
    "model1.add(MaxPool2D((2,2)))\n",
    "model1.add(Conv2D(32,(3,3),activation='relu'))\n",
    "model1.add(MaxPool2D((2,2)))\n",
    "model1.add(Conv2D(64,(3,3),activation='relu'))\n",
    "model1.add(MaxPool2D((2,2)))\n",
    "model1.add(Flatten())\n",
    "model1.add(Dense(16,activation='relu'))\n",
    "model1.add(BatchNormalization(axis=1))\n",
    "model1.add(Dense(1,activation='sigmoid'))"
   ]
  },
  {
   "cell_type": "code",
   "execution_count": null,
   "metadata": {},
   "outputs": [],
   "source": [
    "Y_train=np.reshape(Y_train,(3791,1))\n",
    "Y_train.shape"
   ]
  },
  {
   "cell_type": "code",
   "execution_count": null,
   "metadata": {},
   "outputs": [],
   "source": [
    "model1.compile(loss='binary_crossentropy',optimizer='Adam',metrics=['accuracy'])"
   ]
  },
  {
   "cell_type": "code",
   "execution_count": null,
   "metadata": {},
   "outputs": [],
   "source": [
    "history2=model1.fit(X_train,Y_train,epochs=15,batch_size=64,validation_split=0.2)"
   ]
  },
  {
   "cell_type": "code",
   "execution_count": null,
   "metadata": {},
   "outputs": [],
   "source": [
    "y_prob=model1.predict(X_test)\n",
    "y_prob=y_prob>0.5\n",
    "accuracy_score(Y_test,y_pred)"
   ]
  },
  {
   "cell_type": "code",
   "execution_count": null,
   "metadata": {},
   "outputs": [],
   "source": [
    "\n",
    "plt.plot(history2.history['loss'])\n",
    "plt.plot(history2.history['val_loss'])"
   ]
  },
  {
   "cell_type": "code",
   "execution_count": null,
   "metadata": {},
   "outputs": [],
   "source": [
    "plt.plot(history2.history['accuracy'])\n",
    "plt.plot(history2.history['val_accuracy'])"
   ]
  },
  {
   "cell_type": "code",
   "execution_count": null,
   "metadata": {},
   "outputs": [],
   "source": [
    "sns.heatmap(confusion_matrix(Y_test, y_prob), annot=True, cmap='Blues')\n"
   ]
  },
  {
   "cell_type": "code",
   "execution_count": null,
   "metadata": {},
   "outputs": [],
   "source": [
    "#saving model\n",
    "model1.save_weights(\"/content/drive/MyDrive/Mini_Project_V/TESTCNN.hdf5\",overwrite=True)"
   ]
  },
  {
   "cell_type": "code",
   "execution_count": null,
   "metadata": {},
   "outputs": [],
   "source": []
  }
 ],
 "metadata": {
  "kernelspec": {
   "display_name": "Python 3",
   "language": "python",
   "name": "python3"
  },
  "language_info": {
   "codemirror_mode": {
    "name": "ipython",
    "version": 3
   },
   "file_extension": ".py",
   "mimetype": "text/x-python",
   "name": "python",
   "nbconvert_exporter": "python",
   "pygments_lexer": "ipython3",
   "version": "3.9.13"
  },
  "orig_nbformat": 4,
  "vscode": {
   "interpreter": {
    "hash": "278de74bec2f8befe35c496a153c0aa7f9a148028569894197e39fb4aba79beb"
   }
  }
 },
 "nbformat": 4,
 "nbformat_minor": 2
}
